{
 "cells": [
  {
   "cell_type": "markdown",
   "metadata": {},
   "source": [
    "## Table of Contents\n",
    "<ul>\n",
    "    <li><a href = \"#intro\">Introduction</a></li>\n",
    "    <li><a href = \"#gather\">Data Gathering</a></li>\n",
    "    <li><a href = \"#assess\">Data Assess</a></li>\n",
    "    <li><a href = \"#clean\">Data Cleaning</a></li>\n",
    "    <li><a href = \"#conclude\">Conclusion</a></li>\n",
    "</ul>"
   ]
  },
  {
   "cell_type": "markdown",
   "metadata": {},
   "source": [
    "<a id = 'intro'></a>\n",
    "## Introduction"
   ]
  },
  {
   "cell_type": "markdown",
   "metadata": {},
   "source": [
    "\n",
    "This project aims to gather data from three different sources, which are   \n",
    "•\tA csv file, that will be downloaded from Udacity site  \n",
    "•\tA tsv file that is to be downloaded programmatically using request.   \n",
    "•\tA Twitter user data (we rate dogs) which was  gotten by interacting with twitter’s API using tweepy package on python.\n",
    "assess the datasets, clean them and create analysis about the tweets and the predicted dog’s breed.  \n",
    "\n",
    "<a id = 'gather'></a>\n",
    "## Data Gathering\n",
    "I gathered the csv file by simply clicking on the link on the Udacity site and downloading it directly to my local machine. For the second data source which is a tsv file, I downloaded that using the requests package on python. Then, additional data was gotten from the twitter account using python’s tweepy package.\n",
    "\n",
    "<a id = 'assess'></a>\n",
    "## Data Assessing\n",
    "I then assess the data sets both visually and programmatically to detect both Quality and Tidiness issues. Below, I listed the issues I detect:  \n",
    "Total quality issues detected:  \n",
    "1) Incorrect data type and or name for:  \n",
    "    - archive data's tweet id,timestamp, rating numerator and denominator;  \n",
    "    - img data's tweet id \n",
    "    - twitter data's id\n",
    "2) in_reply_to_status_id, in_reply_to_user_id, retweeted_status_id, retweeted_status_user_id, retweeted_status_timestamp columns have missing values and twitter data's Retweet count column are not needed for our analysis  \n",
    "3) rating numerator has some outliers that is likely due to human error while tweeting  \n",
    "4) Some rating_denominators have zeros and values less than 10  \n",
    "5) Dog named NONE,a,an depicts missing names  \n",
    "6) Dog stages represented as 'None' and some doga have more than 1 dog stage  \n",
    "7) expanded_urls column have missing values   \n",
    "8) Source column is formatted in HTML and is in 'a' tag     \n",
    "9) In p1,p2 and P3 columns, there are inconsistency with dog names   \n",
    "10) Duplicated values in jpg url column   \n",
    "\n",
    "\n",
    "Total  tidiness issues detected:  \n",
    "1) The dog stages in different columns in the df dataframe should be merged into one column named \"dog_stage\"    \n",
    "2) The datasets needs to be merged for easy analysis  \n",
    "\n",
    "<a id = 'clean'></a>\n",
    "## Data Cleaning\n",
    "After identifying the quality and tidiness issues with the datasets, i then clean, the datasets by fixing the issues detected and i tackled each of the issues using the __Define__, __Code__ and __Test__ process.   \n",
    "\n",
    "<a id = 'conclude'></a>\n",
    "## Conclusion\n",
    "I was able to document 12 issues during the first iteration of data wrangling, because data wrangling is an iterative process. \n",
    "For this reason, the final file version was analysed and visualised. This file has 2349 observations and 22 features.\n",
    "\n"
   ]
  },
  {
   "cell_type": "code",
   "execution_count": null,
   "metadata": {},
   "outputs": [],
   "source": []
  }
 ],
 "metadata": {
  "kernelspec": {
   "display_name": "Python 3",
   "language": "python",
   "name": "python3"
  },
  "language_info": {
   "codemirror_mode": {
    "name": "ipython",
    "version": 3
   },
   "file_extension": ".py",
   "mimetype": "text/x-python",
   "name": "python",
   "nbconvert_exporter": "python",
   "pygments_lexer": "ipython3",
   "version": "3.7.3"
  }
 },
 "nbformat": 4,
 "nbformat_minor": 2
}
